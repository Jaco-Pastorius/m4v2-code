{
 "cells": [
  {
   "cell_type": "code",
   "execution_count": null,
   "metadata": {},
   "outputs": [],
   "source": [
    "import sys\n",
    "sys.path.insert(0, \"/home/m4pc/m4v2-code/m4_ws/src/morphing_lander/\")\n",
    "from morphing_lander.data_utils.data_utils import get_data_from_rosbag, get_data_from_rosbag_old, plot_data, plot_z_data\n",
    "import matplotlib.pyplot as plt\n",
    "\n",
    "type_path   = '/home/m4pc/m4v2-code/m4_ws/src/custom_msgs/msg/MPCStatusOld.msg'  # take the old message for the initial CAST experiment\n",
    "topic_name  = 'mpc_status'\n",
    "data = get_data_from_rosbag_old('/home/m4pc/Desktop/rosbag2_successful_landing_cast',type_path,topic_name)"
   ]
  },
  {
   "cell_type": "code",
   "execution_count": null,
   "metadata": {},
   "outputs": [],
   "source": [
    "start_time  = 4.0\n",
    "cutoff_time = 14.0\n",
    "# plot_data(data,start_time,cutoff_time,name='cast_successful_landing_50deg_no_res_learning')\n",
    "plot_z_data(data,start_time,cutoff_time)"
   ]
  },
  {
   "cell_type": "code",
   "execution_count": null,
   "metadata": {},
   "outputs": [],
   "source": [
    "import numpy as np \n",
    "phi_vec = data['phi_vec']\n",
    "t_vec = data['t_vec']\n",
    "cutoff_idx = np.argmin(np.abs(t_vec - cutoff_time))\n",
    "plt.plot(t_vec[:cutoff_idx],phi_vec[:cutoff_idx])"
   ]
  },
  {
   "cell_type": "code",
   "execution_count": null,
   "metadata": {},
   "outputs": [],
   "source": [
    "idx = np.where(np.diff(phi_vec[:cutoff_idx])>0)\n",
    "ang_speed = np.deg2rad(np.max(phi_vec)) / (t_vec[889]-t_vec[700])\n",
    "print(ang_speed)"
   ]
  },
  {
   "cell_type": "code",
   "execution_count": null,
   "metadata": {},
   "outputs": [],
   "source": [
    "np.pi/6.5"
   ]
  },
  {
   "cell_type": "code",
   "execution_count": null,
   "metadata": {},
   "outputs": [],
   "source": []
  }
 ],
 "metadata": {
  "kernelspec": {
   "display_name": "Python 3",
   "language": "python",
   "name": "python3"
  },
  "language_info": {
   "codemirror_mode": {
    "name": "ipython",
    "version": 3
   },
   "file_extension": ".py",
   "mimetype": "text/x-python",
   "name": "python",
   "nbconvert_exporter": "python",
   "pygments_lexer": "ipython3",
   "version": "3.8.10"
  }
 },
 "nbformat": 4,
 "nbformat_minor": 2
}
