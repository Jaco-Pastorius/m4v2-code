{
 "cells": [
  {
   "cell_type": "markdown",
   "metadata": {},
   "source": [
    "Imports"
   ]
  },
  {
   "cell_type": "code",
   "execution_count": null,
   "metadata": {},
   "outputs": [],
   "source": [
    "import sys\n",
    "sys.path.insert(0, \"/home/m4pc/m4v2-code/m4_ws/src/morphing_lander/\")\n",
    "from pathlib import Path\n",
    "import torch\n",
    "from morphing_lander.data_utils.data_utils import get_data_from_rosbag, train_val_split, plot_data, plot_z_data, plot_12vector\n",
    "from morphing_lander.cvae.train import TrainConfigCVAE, train\n",
    "from morphing_lander.cvae.models import CVAE\n",
    "from morphing_lander.mpc.parameters import params_\n",
    "\n",
    "# get key parameters\n",
    "model_states_in_idx  = params_.get('model_states_in_idx')\n",
    "model_inputs_in_idx  = params_.get('model_inputs_in_idx')\n",
    "model_phi_in         = params_.get('model_phi_in')\n",
    "model_dt_in          = params_.get('model_dt_in')\n",
    "model_states_out_idx = params_.get('model_states_out_idx')\n",
    "model_ninputs        = params_.get('model_ninputs')\n",
    "model_noutputs       = params_.get('model_noutputs')\n",
    "\n",
    "print(f\"model_ninputs:  {model_ninputs}\")\n",
    "print(f\"model_noutputs: {model_noutputs}\")"
   ]
  },
  {
   "cell_type": "markdown",
   "metadata": {},
   "source": [
    "Get dataset ready for training"
   ]
  },
  {
   "cell_type": "code",
   "execution_count": null,
   "metadata": {},
   "outputs": [],
   "source": [
    "# get data from rosbag\n",
    "bag_path    = '/home/m4pc/m4v2-code/m4_ws/rosbag2_2024_06_06-21_35_40'\n",
    "type_path   = '/home/m4pc/m4v2-code/m4_ws/src/custom_msgs/msg/MPCStatus.msg'\n",
    "topic_name  = 'mpc_status'\n",
    "\n",
    "percent_val = 0.1\n",
    "data = get_data_from_rosbag(bag_path,\n",
    "                            type_path,\n",
    "                            topic_name,\n",
    "                            smooth_window=None\n",
    "                            )\n",
    "\n",
    "# split data into train and validation set\n",
    "train_data_path = \"/home/m4pc/m4v2-code/m4_ws/src/morphing_lander/data/train_data.pt\"\n",
    "val_data_path = \"/home/m4pc/m4v2-code/m4_ws/src/morphing_lander/data/val_data.pt\"\n",
    "\n",
    "train_data, val_data = train_val_split(data,\n",
    "                                       percent_val,\n",
    "                                       model_states_in_idx,\n",
    "                                       model_inputs_in_idx,\n",
    "                                       model_phi_in,\n",
    "                                       model_dt_in,\n",
    "                                       model_states_out_idx,\n",
    "                        )\n",
    "\n",
    "# save train and validation data for future use\n",
    "torch.save(train_data, train_data_path)\n",
    "torch.save(val_data, val_data_path)\n",
    "\n",
    "print(f\"training data points: {train_data.shape[0]}\")\n",
    "print(f\"validation data points: {val_data.shape[0]}\")"
   ]
  },
  {
   "cell_type": "markdown",
   "metadata": {},
   "source": [
    "Plot dataset"
   ]
  },
  {
   "cell_type": "code",
   "execution_count": null,
   "metadata": {},
   "outputs": [],
   "source": [
    "# plot_data(data,\n",
    "#           start_time =None,\n",
    "#           cutoff_time=None,\n",
    "#           name=None,\n",
    "#           inputs=True,\n",
    "#           residuals=True)\n",
    "\n",
    "plot_z_data(data,\n",
    "            start_time =35,\n",
    "            cutoff_time=40,\n",
    "            )\n"
   ]
  },
  {
   "cell_type": "markdown",
   "metadata": {},
   "source": [
    "Specify training configuration"
   ]
  },
  {
   "cell_type": "code",
   "execution_count": null,
   "metadata": {},
   "outputs": [],
   "source": [
    "# Specify the path for the learned models\n",
    "output_path = Path(\n",
    "    \"/home/m4pc/m4v2-code/m4_ws/src/morphing_lander/learned_models/\"\n",
    ")\n",
    "\n",
    "train_config = TrainConfigCVAE(\n",
    "    output_dim=model_noutputs,\n",
    "    latent_dim=2,\n",
    "    cond_dim=model_ninputs,\n",
    "    encoder_layers=[128, 128],\n",
    "    decoder_layers=[128, 128],\n",
    "    prior_layers=[128, 128],\n",
    "    batches_per_epoch=10,\n",
    "    epochs=250,\n",
    "    step_size=50,  # steps per decay for lr scheduler\n",
    "    gamma=0.75,    # multiplicative decay for lr scheduler\n",
    "    lr=5e-4,\n",
    "    save_epochs=10,\n",
    "    val_epochs=10,\n",
    "    device=\"cuda\" if torch.cuda.is_available() else \"cpu\",\n",
    ")\n",
    "\n",
    "print(f\"Device is: {train_config.device}\")"
   ]
  },
  {
   "cell_type": "markdown",
   "metadata": {},
   "source": [
    "Create the model"
   ]
  },
  {
   "cell_type": "code",
   "execution_count": null,
   "metadata": {},
   "outputs": [],
   "source": [
    "from morphing_lander.cvae.data import ResidualDataset\n",
    "\n",
    "# create the morphing lander residual dataset\n",
    "train_dataset = ResidualDataset(train_data_path, model_noutputs)\n",
    "val_dataset   = ResidualDataset(val_data_path  , model_noutputs)\n",
    "\n",
    "model = CVAE(\n",
    "    output_dim=train_config.output_dim,\n",
    "    latent_dim=train_config.latent_dim,\n",
    "    cond_dim=train_config.cond_dim,\n",
    "    encoder_layers=train_config.encoder_layers,\n",
    "    decoder_layers=train_config.decoder_layers,\n",
    "    prior_layers=train_config.prior_layers,\n",
    "    cond_mean=train_dataset.cond_mean,\n",
    "    cond_var=train_dataset.cond_var,\n",
    "    output_mean=train_dataset.d_mean,\n",
    "    output_var=train_dataset.d_var,\n",
    ").to(train_config.device)"
   ]
  },
  {
   "cell_type": "markdown",
   "metadata": {},
   "source": [
    "Train the model"
   ]
  },
  {
   "cell_type": "code",
   "execution_count": null,
   "metadata": {},
   "outputs": [],
   "source": [
    "# train the model \n",
    "model = train(model,train_dataset,val_dataset,train_config,output_path)"
   ]
  },
  {
   "cell_type": "markdown",
   "metadata": {},
   "source": [
    "Validate\n",
    "\n",
    "First need to set the residual model to the correct path in morphing_lander.mpc.parameters and compute the compiled residual function based on the trained CVAE"
   ]
  },
  {
   "cell_type": "code",
   "execution_count": null,
   "metadata": {},
   "outputs": [],
   "source": [
    "from morphing_lander.mpc.parameters import params_\n",
    "params_.get('learned_model_path')"
   ]
  },
  {
   "cell_type": "code",
   "execution_count": null,
   "metadata": {},
   "outputs": [],
   "source": [
    "import os\n",
    "from casadi import external \n",
    "from morphing_lander.mpc.parameters import params_\n",
    "\n",
    "# get residual model\n",
    "l4c_residual_model = params_.get('l4c_residual_model')\n",
    "\n",
    "# get c-compiled f_res function\n",
    "from morphing_lander.mpc.dynamics import f_res, dynamics_with_res_func, rk4_with_res, rk4_with_disc_res, rk4_with_ground_effect, rk4\n",
    "functions_folder = globals()['_dh'][0] / Path('compiled_functions')\n",
    "os.chdir(functions_folder)\n",
    "f_res().generate('f_res.c') \n",
    "# dynamics_with_res_func().generate('dynamics_with_res_func.c')\n",
    "# rk4_with_res().generate('rk4_with_res.c')\n",
    "rk4_with_disc_res().generate('rk4_with_disc_res')\n",
    "# rk4_with_ground_effect().generate('rk4_with_ground_effect')\n",
    "# rk4().generate('rk4')\n",
    "os.system('gcc -fPIC -shared f_res.c -o f_res.so')\n",
    "# os.system('gcc -fPIC -shared dynamics_with_res_func.c -o dynamics_with_res_func.so')\n",
    "# os.system('gcc -fPIC -shared rk4_with_res.c -o rk4_with_res.so')\n",
    "os.system('gcc -fPIC -shared rk4_with_disc_res.c -o rk4_with_disc_res.so')\n",
    "# os.system('gcc -fPIC -shared rk4_with_ground_effect.c -o rk4_with_ground_effect.so')\n",
    "# os.system('gcc -fPIC -shared rk4.c -o rk4.so')\n",
    "\n",
    "f_res_c = external(\"f_res\", functions_folder.absolute().as_posix() +\"/f_res.so\")\n",
    "# dynamics_with_res_c = external(\"dynamics_with_res_func\", functions_folder.absolute().as_posix() +\"/dynamics_with_res_func.so\")\n",
    "# rk4_with_res_c = external(\"rk4_with_res\", functions_folder.absolute().as_posix() +\"/rk4_with_res.so\")\n",
    "rk4_with_disc_res_c = external(\"rk4_with_disc_res\", functions_folder.absolute().as_posix() +\"/rk4_with_disc_res.so\")\n",
    "# rk4_with_ground_effect_c = external(\"rk4_with_ground_effect\", functions_folder.absolute().as_posix() +\"/rk4_with_ground_effect.so\")\n",
    "# rk4_c = external(\"rk4\", functions_folder.absolute().as_posix() +\"/rk4.so\")"
   ]
  },
  {
   "cell_type": "markdown",
   "metadata": {},
   "source": [
    "Compute the predicted residual on the dataset"
   ]
  },
  {
   "cell_type": "code",
   "execution_count": null,
   "metadata": {},
   "outputs": [],
   "source": [
    "import numpy as np\n",
    "\n",
    "# get residual predictions \n",
    "x_vec   = data['x_vec']\n",
    "u_vec   = data['u_vec']\n",
    "phi_vec = data['phi_vec']\n",
    "dt_vec  = data['dt_vec']\n",
    "\n",
    "cond = np.hstack((x_vec[:-1,model_states_in_idx],u_vec[:-1,model_inputs_in_idx]))\n",
    "if model_phi_in:\n",
    "    cond = np.hstack((cond,phi_vec[:-1,np.newaxis]))\n",
    "if model_dt_in:\n",
    "    cond = np.hstack((cond,dt_vec[:,np.newaxis]))\n",
    "\n",
    "d_predicted = []\n",
    "params = []\n",
    "for i in range(cond.shape[0]):\n",
    "    print(f\"{i}/{cond.shape[0]}\")\n",
    "    params_ = l4c_residual_model.get_params(cond[i,:])\n",
    "    d_predicted.append(f_res_c(cond[i,:],params_))\n",
    "    params.append(params_)\n",
    "d_predicted = np.array(d_predicted).squeeze()\n",
    "params = np.array(params).squeeze()\n",
    "\n",
    "# N = x_vec.shape[0]\n",
    "# Nmid = int(N/2)\n",
    "# cond1 = np.hstack((x_vec[:Nmid,[2,3,4,5,6,7,8]],u_vec[:Nmid,:],phi_vec[:Nmid,np.newaxis]))\n",
    "# params1 = l4c_residual_model.get_params(cond1)\n",
    "\n",
    "# cond2 = np.hstack((x_vec[Nmid:,[2,3,4,5,6,7,8]],u_vec[Nmid:,:],phi_vec[Nmid:,np.newaxis]))\n",
    "# params2 = l4c_residual_model.get_params(cond2)\n",
    "\n",
    "# params = np.hstack((params1,params2))\n",
    "# cond   = np.hstack((cond1,cond2))\n",
    "\n",
    "# f_res_predicted = []\n",
    "# params = []\n",
    "# for i in range(cond.shape[0]):\n",
    "#     print(f\"{i}/{cond.shape[0]}\")\n",
    "#     params_ = l4c_residual_model.get_params(cond[i,:])\n",
    "#     f_res_predicted.append(f_res_c(cond[i,:],params_))\n",
    "#     # f_res_predicted.append(f_res()(cond[i,:],params_))\n",
    "#     params.append(params_)\n",
    "# f_res_predicted = np.array(f_res_predicted).squeeze()\n",
    "# params = np.array(params).squeeze()"
   ]
  },
  {
   "cell_type": "markdown",
   "metadata": {},
   "source": [
    "Plot the predicted residual vs actual residual"
   ]
  },
  {
   "cell_type": "code",
   "execution_count": null,
   "metadata": {},
   "outputs": [],
   "source": [
    "from morphing_lander.data_utils.data_utils import smooth\n",
    "d = data['d']\n",
    "t_vec     = data['t_vec']\n",
    "f_res_int = data['f_res_int']\n",
    "f_res_diff = data['f_res_diff']\n",
    "# f_res_int_smooth = data['f_res_int_smooth']\n",
    "\n",
    "# f_res_predicted_smooth = smooth(f_res_predicted,1)\n",
    "\n",
    "fig,axs = plot_12vector(t_vec[:-1],\n",
    "                        d,\n",
    "                        handles = None,\n",
    "                        start_time =8,\n",
    "                        cutoff_time=16,\n",
    "                        name=None,\n",
    "                        title=None,\n",
    "                        labels=None,\n",
    "                        linestyle='b',\n",
    "                        display=True,\n",
    "                        overlay_vec=d_predicted,\n",
    "                        overlay_idx=model_states_out_idx,\n",
    "                        overlay_linestyle='r'\n",
    "                        )\n"
   ]
  },
  {
   "cell_type": "markdown",
   "metadata": {},
   "source": [
    "Plot the corrected dynamics predictions"
   ]
  },
  {
   "cell_type": "code",
   "execution_count": null,
   "metadata": {},
   "outputs": [],
   "source": [
    "import matplotlib.pyplot as plt \n",
    "from morphing_lander.data_utils.data_utils import get_start_end_idx\n",
    "\n",
    "t_vec      = data['t_vec']\n",
    "dt_vec     = data['dt_vec']\n",
    "x_vec      = data['x_vec']\n",
    "x_next_vec = data['x_next_vec']\n",
    "\n",
    "x_next_corrected = []\n",
    "for i in range(x_next_vec.shape[0]):\n",
    "    x_next_corrected.append(rk4_with_disc_res_c(dt_vec[i],x_vec[i,:],u_vec[i,:],phi_vec[i],params[i,:]))\n",
    "x_next_corrected = np.array(x_next_corrected)\n",
    "\n",
    "# x_next_corrected = []\n",
    "# for i in range(x_next_vec.shape[0]):\n",
    "#     x_next_corrected.append(rk4_with_res_c(dt_vec[i],x_vec[i,:],u_vec[i,:],phi_vec[i],params[i,:]))\n",
    "# x_next_corrected = np.array(x_next_corrected)\n",
    "\n",
    "start_idx,cutoff_idx = get_start_end_idx(t_vec,2,12)\n",
    "\n",
    "plt.figure(figsize=(14,8))\n",
    "plt.plot(t_vec[start_idx:cutoff_idx-1],x_vec[start_idx:cutoff_idx-1,8],'b')\n",
    "plt.plot(t_vec[start_idx:cutoff_idx],x_next_vec[start_idx:cutoff_idx,8],'r')\n",
    "plt.plot(t_vec[start_idx:cutoff_idx-1],x_next_corrected[start_idx:cutoff_idx-1,8],'g')"
   ]
  },
  {
   "cell_type": "markdown",
   "metadata": {},
   "source": [
    "Test what the residual dynamics learned"
   ]
  },
  {
   "cell_type": "code",
   "execution_count": null,
   "metadata": {},
   "outputs": [],
   "source": [
    "z = np.linspace(0,-1.5,100)\n",
    "u = np.array([1,1,1,1])\n",
    "d_predicted = []\n",
    "d_true = []\n",
    "for z_ in z:\n",
    "    cond = np.array([z_,u[0],u[1],u[2],u[3]])\n",
    "    params_ = l4c_residual_model.get_params(cond)\n",
    "    x = np.array([0,0,z_,0,0,0,0,0,0,0,0,0])\n",
    "    phi = 0.0\n",
    "    d_predicted.append(f_res_c(cond,params_))\n",
    "    # print(rk4_with_ground_effect_c(0.01,x,u,phi))\n",
    "    # d_true.append(rk4_with_ground_effect_c(0.01,x,u,phi) - rk4_c(0.01,x,u,phi))"
   ]
  },
  {
   "cell_type": "code",
   "execution_count": null,
   "metadata": {},
   "outputs": [],
   "source": [
    "# plt.plot(z,np.array(d_predicted).squeeze(),'r')\n",
    "plt.plot(z,np.array(d_true).squeeze()[:,8],'b')"
   ]
  },
  {
   "cell_type": "code",
   "execution_count": null,
   "metadata": {},
   "outputs": [],
   "source": [
    "import matplotlib.pyplot as plt\n",
    "import numpy as np \n",
    "from morphing_lander.mpc.parameters import params_\n",
    "\n",
    "kT      = params_.get('kT')\n",
    "m       = params_.get('m')\n",
    "g       = params_.get('g')\n",
    "\n",
    "# get ground effect\n",
    "R = 0.23\n",
    "ground_effect_residual = []\n",
    "for i in range(data['x_vec'].shape[0]):\n",
    "    z     = data['x_vec'][i,2]\n",
    "    u_tot = np.sum(data['u_vec'][i,:])\n",
    "    phi   = data['phi_vec'][i]\n",
    "    ground_effect = 1.0\n",
    "    if abs(z/R) < 2:\n",
    "        ground_effect = -3.0/2.0*abs(z/R) + 4.0\n",
    "    ground_effect_residual.append(-(ground_effect-1) * kT * (u_tot) * np.cos(phi) / m)\n",
    "\n",
    "plt.plot(data['t_vec'],ground_effect_residual)\n",
    "plt.plot(data['t_vec'][:-1],data['f_res_int'][:,8])\n",
    "\n",
    "# Plot histogram using pcolormesh\n",
    "plt.scatter(data['x_vec'][1:,2],data['f_res_int'][:,8])\n",
    "u_sum_vec = np.sum(data['u_vec'],axis=1)[:-1]\n",
    "H,xedges,yedges = np.histogram2d(data['x_vec'][:,2],ground_effect_residual,bins=50)\n",
    "fig, ax = plt.subplots(1,1)\n",
    "ax.pcolormesh(xedges, yedges, H, cmap='rainbow')\n",
    "# ax.plot(x, 2*np.log(x), 'k-')\n",
    "# ax1.set_xlim(x.min(), x.max())\n",
    "# ax1.set_ylim(y.min(), y.max())\n",
    "ax.set_xlabel('z')\n",
    "ax.set_ylabel('a_res')\n",
    "ax.grid()\n"
   ]
  }
 ],
 "metadata": {
  "kernelspec": {
   "display_name": "Python 3",
   "language": "python",
   "name": "python3"
  },
  "language_info": {
   "codemirror_mode": {
    "name": "ipython",
    "version": 3
   },
   "file_extension": ".py",
   "mimetype": "text/x-python",
   "name": "python",
   "nbconvert_exporter": "python",
   "pygments_lexer": "ipython3",
   "version": "3.8.10"
  }
 },
 "nbformat": 4,
 "nbformat_minor": 2
}
