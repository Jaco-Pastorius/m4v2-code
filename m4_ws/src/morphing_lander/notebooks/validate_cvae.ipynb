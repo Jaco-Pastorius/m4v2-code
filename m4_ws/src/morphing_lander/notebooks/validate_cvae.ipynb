{
 "cells": [
  {
   "cell_type": "code",
   "execution_count": 1,
   "metadata": {},
   "outputs": [],
   "source": [
    "import sys\n",
    "sys.path.insert(0, \"/home/m4pc/m4v2-code/m4_ws/src/morphing_lander/\")\n",
    "\n",
    "# reload trained model\n",
    "from morphing_lander.cvae.data import MLDataset\n",
    "import yaml, torch, os\n",
    "from morphing_lander.cvae.train import TrainConfig\n",
    "from morphing_lander.cvae.models import CVAE\n",
    "from morphing_lander.cvae.cvae_utils import sample_outputs\n",
    "from pathlib import Path\n",
    "\n",
    "import numpy as np \n",
    "import plotly.graph_objects as go\n",
    "\n",
    "\n",
    "val_data_path   = '/home/m4pc/m4v2-code/m4_ws/src/morphing_lander/data/val_data.pt'\n",
    "train_data_path = '/home/m4pc/m4v2-code/m4_ws/src/morphing_lander/data/train_data.pt'\n",
    "model_path      = Path('/home/m4pc/m4v2-code/m4_ws/src/morphing_lander/learned_models/2024-05-21_23-08-03')\n",
    "\n",
    "# Load the config from file\n",
    "config_file = model_path / \"config.yaml\"\n",
    "with open(config_file, \"r\") as f:\n",
    "    config_dict = yaml.safe_load(f)\n",
    "    config = TrainConfig(**config_dict)\n",
    "\n",
    "# Load the latest checkpoint (of all .pth files under model_path)\n",
    "model_file = max(model_path.glob(\"*.pth\"), key=os.path.getctime)\n",
    "model = CVAE(\n",
    "    output_dim=config.output_dim,\n",
    "    latent_dim=config.latent_dim,\n",
    "    cond_dim=config.cond_dim,\n",
    "    encoder_layers=config.encoder_layers,\n",
    "    decoder_layers=config.decoder_layers,\n",
    "    prior_layers=config.prior_layers,\n",
    ")\n",
    "model.load_state_dict(torch.load(model_file))\n",
    "model.to(config.device)\n",
    "model.eval()\n",
    "\n",
    "train_dataset = MLDataset(train_data_path)\n",
    "val_dataset = MLDataset(val_data_path)"
   ]
  },
  {
   "cell_type": "code",
   "execution_count": 7,
   "metadata": {},
   "outputs": [
    {
     "ename": "IndexError",
     "evalue": "too many indices for tensor of dimension 2",
     "output_type": "error",
     "traceback": [
      "\u001b[0;31m---------------------------------------------------------------------------\u001b[0m",
      "\u001b[0;31mIndexError\u001b[0m                                Traceback (most recent call last)",
      "Cell \u001b[0;32mIn[7], line 1\u001b[0m\n\u001b[0;32m----> 1\u001b[0m \u001b[43mtrain_dataset\u001b[49m\u001b[43m[\u001b[49m\u001b[38;5;124;43m\"\u001b[39;49m\u001b[38;5;124;43mcond\u001b[39;49m\u001b[38;5;124;43m\"\u001b[39;49m\u001b[43m]\u001b[49m\n",
      "File \u001b[0;32m~/m4v2-code/m4_ws/src/morphing_lander/morphing_lander/cvae/data.py:28\u001b[0m, in \u001b[0;36mMLDataset.__getitem__\u001b[0;34m(self, idx)\u001b[0m\n\u001b[1;32m     26\u001b[0m \u001b[38;5;28;01mdef\u001b[39;00m \u001b[38;5;21m__getitem__\u001b[39m(\u001b[38;5;28mself\u001b[39m, idx):\n\u001b[1;32m     27\u001b[0m     \u001b[38;5;28;01mreturn\u001b[39;00m {\n\u001b[0;32m---> 28\u001b[0m         \u001b[38;5;124m\"\u001b[39m\u001b[38;5;124md\u001b[39m\u001b[38;5;124m\"\u001b[39m: \u001b[38;5;28;43mself\u001b[39;49m\u001b[38;5;241;43m.\u001b[39;49m\u001b[43md\u001b[49m\u001b[43m[\u001b[49m\u001b[43midx\u001b[49m\u001b[43m]\u001b[49m,\n\u001b[1;32m     29\u001b[0m         \u001b[38;5;124m\"\u001b[39m\u001b[38;5;124mx\u001b[39m\u001b[38;5;124m\"\u001b[39m: \u001b[38;5;28mself\u001b[39m\u001b[38;5;241m.\u001b[39mx[idx],\n\u001b[1;32m     30\u001b[0m         \u001b[38;5;124m\"\u001b[39m\u001b[38;5;124mcond\u001b[39m\u001b[38;5;124m\"\u001b[39m: \u001b[38;5;28mself\u001b[39m\u001b[38;5;241m.\u001b[39mcond[idx],\n\u001b[1;32m     31\u001b[0m     }\n",
      "\u001b[0;31mIndexError\u001b[0m: too many indices for tensor of dimension 2"
     ]
    }
   ],
   "source": [
    "train_dataset[\"cond\"]"
   ]
  },
  {
   "cell_type": "code",
   "execution_count": 13,
   "metadata": {},
   "outputs": [
    {
     "ename": "RuntimeError",
     "evalue": "cannot reshape tensor of 0 elements into shape [0, -1] because the unspecified dimension size -1 can be any value and is ambiguous",
     "output_type": "error",
     "traceback": [
      "\u001b[0;31m---------------------------------------------------------------------------\u001b[0m",
      "\u001b[0;31mRuntimeError\u001b[0m                              Traceback (most recent call last)",
      "Cell \u001b[0;32mIn[13], line 14\u001b[0m\n\u001b[1;32m     11\u001b[0m d, cond \u001b[38;5;241m=\u001b[39m batch[\u001b[38;5;124m\"\u001b[39m\u001b[38;5;124md\u001b[39m\u001b[38;5;124m\"\u001b[39m]\u001b[38;5;241m.\u001b[39mto(config\u001b[38;5;241m.\u001b[39mdevice), batch[\u001b[38;5;124m\"\u001b[39m\u001b[38;5;124mcond\u001b[39m\u001b[38;5;124m\"\u001b[39m]\u001b[38;5;241m.\u001b[39mto(config\u001b[38;5;241m.\u001b[39mdevice)\n\u001b[1;32m     12\u001b[0m d \u001b[38;5;241m=\u001b[39m model\u001b[38;5;241m.\u001b[39moutput_normalizer\u001b[38;5;241m.\u001b[39mnormalize(d)\n\u001b[0;32m---> 14\u001b[0m pred_mean, pred_var \u001b[38;5;241m=\u001b[39m \u001b[43msample_outputs\u001b[49m\u001b[43m(\u001b[49m\u001b[43mmodel\u001b[49m\u001b[43m,\u001b[49m\u001b[43m \u001b[49m\u001b[43mcond\u001b[49m\u001b[43m,\u001b[49m\u001b[43m \u001b[49m\u001b[43mn_samples\u001b[49m\u001b[43m)\u001b[49m\n\u001b[1;32m     15\u001b[0m \u001b[38;5;66;03m# pred_mean, pred_var = model.forward(cond)\u001b[39;00m\n\u001b[1;32m     16\u001b[0m index \u001b[38;5;241m=\u001b[39m \u001b[38;5;241m8\u001b[39m\n",
      "File \u001b[0;32m~/m4v2-code/m4_ws/src/morphing_lander/morphing_lander/cvae/cvae_utils.py:59\u001b[0m, in \u001b[0;36msample_outputs\u001b[0;34m(model, cond, num_samples)\u001b[0m\n\u001b[1;32m     57\u001b[0m \u001b[38;5;66;03m# Sample the prior.\u001b[39;00m\n\u001b[1;32m     58\u001b[0m prior_mean, prior_var \u001b[38;5;241m=\u001b[39m model\u001b[38;5;241m.\u001b[39mprior(cond)\n\u001b[0;32m---> 59\u001b[0m prior_dist \u001b[38;5;241m=\u001b[39m \u001b[43mtorch\u001b[49m\u001b[38;5;241;43m.\u001b[39;49m\u001b[43mdistributions\u001b[49m\u001b[38;5;241;43m.\u001b[39;49m\u001b[43mMultivariateNormal\u001b[49m\u001b[43m(\u001b[49m\n\u001b[1;32m     60\u001b[0m \u001b[43m    \u001b[49m\u001b[43mloc\u001b[49m\u001b[38;5;241;43m=\u001b[39;49m\u001b[43mprior_mean\u001b[49m\u001b[43m,\u001b[49m\u001b[43m \u001b[49m\u001b[43mcovariance_matrix\u001b[49m\u001b[38;5;241;43m=\u001b[39;49m\u001b[43mtorch\u001b[49m\u001b[38;5;241;43m.\u001b[39;49m\u001b[43mdiag_embed\u001b[49m\u001b[43m(\u001b[49m\u001b[43mprior_var\u001b[49m\u001b[43m)\u001b[49m\n\u001b[1;32m     61\u001b[0m \u001b[43m\u001b[49m\u001b[43m)\u001b[49m\n\u001b[1;32m     63\u001b[0m z \u001b[38;5;241m=\u001b[39m prior_dist\u001b[38;5;241m.\u001b[39msample((num_samples,))\n\u001b[1;32m     65\u001b[0m cond_expanded \u001b[38;5;241m=\u001b[39m cond\u001b[38;5;241m.\u001b[39munsqueeze(\u001b[38;5;241m0\u001b[39m)\u001b[38;5;241m.\u001b[39mexpand(num_samples, \u001b[38;5;241m-\u001b[39m\u001b[38;5;241m1\u001b[39m, \u001b[38;5;241m-\u001b[39m\u001b[38;5;241m1\u001b[39m)\n",
      "File \u001b[0;32m~/.local/lib/python3.8/site-packages/torch/distributions/multivariate_normal.py:177\u001b[0m, in \u001b[0;36mMultivariateNormal.__init__\u001b[0;34m(self, loc, covariance_matrix, precision_matrix, scale_tril, validate_args)\u001b[0m\n\u001b[1;32m    174\u001b[0m \u001b[38;5;28mself\u001b[39m\u001b[38;5;241m.\u001b[39mloc \u001b[38;5;241m=\u001b[39m loc\u001b[38;5;241m.\u001b[39mexpand(batch_shape \u001b[38;5;241m+\u001b[39m (\u001b[38;5;241m-\u001b[39m\u001b[38;5;241m1\u001b[39m,))\n\u001b[1;32m    176\u001b[0m event_shape \u001b[38;5;241m=\u001b[39m \u001b[38;5;28mself\u001b[39m\u001b[38;5;241m.\u001b[39mloc\u001b[38;5;241m.\u001b[39mshape[\u001b[38;5;241m-\u001b[39m\u001b[38;5;241m1\u001b[39m:]\n\u001b[0;32m--> 177\u001b[0m \u001b[38;5;28;43msuper\u001b[39;49m\u001b[43m(\u001b[49m\u001b[43m)\u001b[49m\u001b[38;5;241;43m.\u001b[39;49m\u001b[38;5;21;43m__init__\u001b[39;49m\u001b[43m(\u001b[49m\u001b[43mbatch_shape\u001b[49m\u001b[43m,\u001b[49m\u001b[43m \u001b[49m\u001b[43mevent_shape\u001b[49m\u001b[43m,\u001b[49m\u001b[43m \u001b[49m\u001b[43mvalidate_args\u001b[49m\u001b[38;5;241;43m=\u001b[39;49m\u001b[43mvalidate_args\u001b[49m\u001b[43m)\u001b[49m\n\u001b[1;32m    179\u001b[0m \u001b[38;5;28;01mif\u001b[39;00m scale_tril \u001b[38;5;129;01mis\u001b[39;00m \u001b[38;5;129;01mnot\u001b[39;00m \u001b[38;5;28;01mNone\u001b[39;00m:\n\u001b[1;32m    180\u001b[0m     \u001b[38;5;28mself\u001b[39m\u001b[38;5;241m.\u001b[39m_unbroadcasted_scale_tril \u001b[38;5;241m=\u001b[39m scale_tril\n",
      "File \u001b[0;32m~/.local/lib/python3.8/site-packages/torch/distributions/distribution.py:66\u001b[0m, in \u001b[0;36mDistribution.__init__\u001b[0;34m(self, batch_shape, event_shape, validate_args)\u001b[0m\n\u001b[1;32m     64\u001b[0m     \u001b[38;5;28;01mcontinue\u001b[39;00m  \u001b[38;5;66;03m# skip checking lazily-constructed args\u001b[39;00m\n\u001b[1;32m     65\u001b[0m value \u001b[38;5;241m=\u001b[39m \u001b[38;5;28mgetattr\u001b[39m(\u001b[38;5;28mself\u001b[39m, param)\n\u001b[0;32m---> 66\u001b[0m valid \u001b[38;5;241m=\u001b[39m \u001b[43mconstraint\u001b[49m\u001b[38;5;241;43m.\u001b[39;49m\u001b[43mcheck\u001b[49m\u001b[43m(\u001b[49m\u001b[43mvalue\u001b[49m\u001b[43m)\u001b[49m\n\u001b[1;32m     67\u001b[0m \u001b[38;5;28;01mif\u001b[39;00m \u001b[38;5;129;01mnot\u001b[39;00m valid\u001b[38;5;241m.\u001b[39mall():\n\u001b[1;32m     68\u001b[0m     \u001b[38;5;28;01mraise\u001b[39;00m \u001b[38;5;167;01mValueError\u001b[39;00m(\n\u001b[1;32m     69\u001b[0m         \u001b[38;5;124mf\u001b[39m\u001b[38;5;124m\"\u001b[39m\u001b[38;5;124mExpected parameter \u001b[39m\u001b[38;5;132;01m{\u001b[39;00mparam\u001b[38;5;132;01m}\u001b[39;00m\u001b[38;5;124m \u001b[39m\u001b[38;5;124m\"\u001b[39m\n\u001b[1;32m     70\u001b[0m         \u001b[38;5;124mf\u001b[39m\u001b[38;5;124m\"\u001b[39m\u001b[38;5;124m(\u001b[39m\u001b[38;5;132;01m{\u001b[39;00m\u001b[38;5;28mtype\u001b[39m(value)\u001b[38;5;241m.\u001b[39m\u001b[38;5;18m__name__\u001b[39m\u001b[38;5;132;01m}\u001b[39;00m\u001b[38;5;124m of shape \u001b[39m\u001b[38;5;132;01m{\u001b[39;00m\u001b[38;5;28mtuple\u001b[39m(value\u001b[38;5;241m.\u001b[39mshape)\u001b[38;5;132;01m}\u001b[39;00m\u001b[38;5;124m) \u001b[39m\u001b[38;5;124m\"\u001b[39m\n\u001b[0;32m   (...)\u001b[0m\n\u001b[1;32m     73\u001b[0m         \u001b[38;5;124mf\u001b[39m\u001b[38;5;124m\"\u001b[39m\u001b[38;5;124mbut found invalid values:\u001b[39m\u001b[38;5;130;01m\\n\u001b[39;00m\u001b[38;5;132;01m{\u001b[39;00mvalue\u001b[38;5;132;01m}\u001b[39;00m\u001b[38;5;124m\"\u001b[39m\n\u001b[1;32m     74\u001b[0m     )\n",
      "File \u001b[0;32m~/.local/lib/python3.8/site-packages/torch/distributions/constraints.py:226\u001b[0m, in \u001b[0;36m_IndependentConstraint.check\u001b[0;34m(self, value)\u001b[0m\n\u001b[1;32m    222\u001b[0m     expected \u001b[38;5;241m=\u001b[39m \u001b[38;5;28mself\u001b[39m\u001b[38;5;241m.\u001b[39mbase_constraint\u001b[38;5;241m.\u001b[39mevent_dim \u001b[38;5;241m+\u001b[39m \u001b[38;5;28mself\u001b[39m\u001b[38;5;241m.\u001b[39mreinterpreted_batch_ndims\n\u001b[1;32m    223\u001b[0m     \u001b[38;5;28;01mraise\u001b[39;00m \u001b[38;5;167;01mValueError\u001b[39;00m(\n\u001b[1;32m    224\u001b[0m         \u001b[38;5;124mf\u001b[39m\u001b[38;5;124m\"\u001b[39m\u001b[38;5;124mExpected value.dim() >= \u001b[39m\u001b[38;5;132;01m{\u001b[39;00mexpected\u001b[38;5;132;01m}\u001b[39;00m\u001b[38;5;124m but got \u001b[39m\u001b[38;5;132;01m{\u001b[39;00mvalue\u001b[38;5;241m.\u001b[39mdim()\u001b[38;5;132;01m}\u001b[39;00m\u001b[38;5;124m\"\u001b[39m\n\u001b[1;32m    225\u001b[0m     )\n\u001b[0;32m--> 226\u001b[0m result \u001b[38;5;241m=\u001b[39m \u001b[43mresult\u001b[49m\u001b[38;5;241;43m.\u001b[39;49m\u001b[43mreshape\u001b[49m\u001b[43m(\u001b[49m\n\u001b[1;32m    227\u001b[0m \u001b[43m    \u001b[49m\u001b[43mresult\u001b[49m\u001b[38;5;241;43m.\u001b[39;49m\u001b[43mshape\u001b[49m\u001b[43m[\u001b[49m\u001b[43m:\u001b[49m\u001b[43m \u001b[49m\u001b[43mresult\u001b[49m\u001b[38;5;241;43m.\u001b[39;49m\u001b[43mdim\u001b[49m\u001b[43m(\u001b[49m\u001b[43m)\u001b[49m\u001b[43m \u001b[49m\u001b[38;5;241;43m-\u001b[39;49m\u001b[43m \u001b[49m\u001b[38;5;28;43mself\u001b[39;49m\u001b[38;5;241;43m.\u001b[39;49m\u001b[43mreinterpreted_batch_ndims\u001b[49m\u001b[43m]\u001b[49m\u001b[43m \u001b[49m\u001b[38;5;241;43m+\u001b[39;49m\u001b[43m \u001b[49m\u001b[43m(\u001b[49m\u001b[38;5;241;43m-\u001b[39;49m\u001b[38;5;241;43m1\u001b[39;49m\u001b[43m,\u001b[49m\u001b[43m)\u001b[49m\n\u001b[1;32m    228\u001b[0m \u001b[43m\u001b[49m\u001b[43m)\u001b[49m\n\u001b[1;32m    229\u001b[0m result \u001b[38;5;241m=\u001b[39m result\u001b[38;5;241m.\u001b[39mall(\u001b[38;5;241m-\u001b[39m\u001b[38;5;241m1\u001b[39m)\n\u001b[1;32m    230\u001b[0m \u001b[38;5;28;01mreturn\u001b[39;00m result\n",
      "\u001b[0;31mRuntimeError\u001b[0m: cannot reshape tensor of 0 elements into shape [0, -1] because the unspecified dimension size -1 can be any value and is ambiguous"
     ]
    }
   ],
   "source": [
    "# Get a sequential batch of val states + query the model for residuals\n",
    "batch_size = 200\n",
    "\n",
    "# Get a batch of data\n",
    "start_iter = batch_size\n",
    "batch = val_dataset[start_iter : start_iter + batch_size]\n",
    "\n",
    "n_samples = 100\n",
    "\n",
    "# Query the model for normalized disturbances.\n",
    "d, cond = batch[\"d\"].to(config.device), batch[\"cond\"].to(config.device)\n",
    "d = model.output_normalizer.normalize(d)\n",
    "\n",
    "pred_mean, pred_var = sample_outputs(model, cond, n_samples)\n",
    "# pred_mean, pred_var = model.forward(cond)\n",
    "index = 8\n",
    "\n",
    "# Plot the actual d and predicted mean.\n",
    "fig = go.Figure()\n",
    "fig.add_trace(\n",
    "    go.Scatter(\n",
    "        x=np.arange(batch_size),\n",
    "        y=batch[\"d\"][:, index].cpu().numpy(),\n",
    "        name=\"Actual\",\n",
    "        line=dict(color=\"blue\"),\n",
    "    )\n",
    ")\n",
    "\n",
    "fig.add_trace(\n",
    "    go.Scatter(\n",
    "        x=np.arange(batch_size),\n",
    "        y=pred_mean[:, index].cpu().numpy(),\n",
    "        mode=\"lines\",\n",
    "        name=\"Predicted\",\n",
    "        line=dict(color=\"red\"),\n",
    "    )\n",
    ")\n",
    "\n",
    "# Fill between the 2 std devs.\n",
    "fig.add_trace(\n",
    "    go.Scatter(\n",
    "        x=np.arange(batch_size),\n",
    "        y=pred_mean[:, index].cpu().numpy()\n",
    "        - 2 * pred_var[:, index, index].sqrt().cpu().numpy(),\n",
    "        mode=\"lines\",\n",
    "        name=\"Predicted - 2 std\",\n",
    "        line=dict(color=\"green\"),\n",
    "    )\n",
    ")\n",
    "\n",
    "fig.add_trace(\n",
    "    go.Scatter(\n",
    "        x=np.arange(batch_size),\n",
    "        y=pred_mean[:, index].cpu().numpy()\n",
    "        + 2 * pred_var[:, index, index].sqrt().cpu().numpy(),\n",
    "        mode=\"lines\",\n",
    "        name=\"Predicted + 2 std\",\n",
    "        line=dict(color=\"green\"),\n",
    "    )\n",
    ")\n",
    "\n",
    "fig.show()"
   ]
  },
  {
   "cell_type": "code",
   "execution_count": 9,
   "metadata": {},
   "outputs": [
    {
     "name": "stdout",
     "output_type": "stream",
     "text": [
      "torch.Size([100, 14332, 6])\n",
      "torch.Size([14332, 12])\n"
     ]
    }
   ],
   "source": [
    "# get prediction over whole training set\n",
    "# N_train_samples = train_dataset[:][\"cond\"].shape[0]\n",
    "# batch_size = N_train_samples\n",
    "\n",
    "# Get a batch of data\n",
    "batch = train_dataset[:]\n",
    "\n",
    "n_samples = 100\n",
    "\n",
    "# Query the model for normalized disturbances.\n",
    "d, cond = batch[\"d\"].to(config.device), batch[\"cond\"].to(config.device)\n",
    "d = model.output_normalizer.normalize(d)\n",
    "\n",
    "pred_mean, pred_var = sample_outputs(model, cond, n_samples)"
   ]
  },
  {
   "cell_type": "code",
   "execution_count": 10,
   "metadata": {},
   "outputs": [
    {
     "data": {
      "text/plain": [
       "<matplotlib.collections.QuadMesh at 0x7fc7ccbd0700>"
      ]
     },
     "execution_count": 10,
     "metadata": {},
     "output_type": "execute_result"
    },
    {
     "data": {
      "image/png": "[encoded data removed]",
      "text/plain": [
       "<Figure size 700x300 with 1 Axes>"
      ]
     },
     "metadata": {},
     "output_type": "display_data"
    }
   ],
   "source": [
    "from matplotlib.image import NonUniformImage\n",
    "import matplotlib.pyplot as plt\n",
    "\n",
    "H,xedges,yedges = np.histogram2d(batch[\"cond\"][:,0].cpu().numpy(), batch[\"d\"][:, 8].cpu().numpy(), bins=30)\n",
    "fig,ax = plt.subplots(figsize=(7, 3))\n",
    "\n",
    "# ax = fig.add_subplot(131, title='imshow: square bins')\n",
    "# plt.imshow(H, interpolation='nearest', origin='lower', extent=[xedges[0], xedges[-1], yedges[0], yedges[-1]])\n",
    "\n",
    "# ax = fig.add_subplot(132, title='pcolormesh: actual edges',aspect='equal')\n",
    "X, Y = np.meshgrid(xedges, yedges)\n",
    "ax.pcolormesh(X, Y, H)\n",
    "\n",
    "# ax = fig.add_subplot(133, title='NonUniformImage: interpolated',aspect='equal', xlim=xedges[[0, -1]], ylim=yedges[[0, -1]])\n",
    "# im = NonUniformImage(ax, interpolation='bilinear')\n",
    "# xcenters = (xedges[:-1] + xedges[1:]) / 2\n",
    "# ycenters = (yedges[:-1] + yedges[1:]) / 2\n",
    "# im.set_data(xcenters, ycenters, H)\n",
    "# ax.add_image(im)\n",
    "# # plt.show()"
   ]
  },
  {
   "cell_type": "code",
   "execution_count": 13,
   "metadata": {},
   "outputs": [
    {
     "name": "stdout",
     "output_type": "stream",
     "text": [
      "[-1.5        -1.4848485  -1.469697   -1.4545455  -1.439394   -1.4242424\n",
      " -1.4090909  -1.3939394  -1.3787879  -1.3636364  -1.3484849  -1.3333334\n",
      " -1.3181818  -1.3030303  -1.2878788  -1.2727273  -1.2575758  -1.2424242\n",
      " -1.2272727  -1.2121212  -1.1969697  -1.1818181  -1.1666666  -1.1515151\n",
      " -1.1363636  -1.1212121  -1.1060606  -1.0909091  -1.0757575  -1.060606\n",
      " -1.0454545  -1.030303   -1.0151515  -1.         -0.9848485  -0.96969694\n",
      " -0.95454544 -0.93939394 -0.9242424  -0.9090909  -0.8939394  -0.8787879\n",
      " -0.8636364  -0.8484848  -0.8333333  -0.8181818  -0.80303025 -0.78787875\n",
      " -0.77272725 -0.75757575 -0.74242425 -0.72727275 -0.71212125 -0.69696975\n",
      " -0.6818182  -0.6666667  -0.6515152  -0.6363636  -0.6212121  -0.6060606\n",
      " -0.5909091  -0.5757576  -0.56060606 -0.54545456 -0.53030306 -0.5151515\n",
      " -0.5        -0.4848485  -0.469697   -0.45454547 -0.43939394 -0.42424244\n",
      " -0.40909094 -0.3939394  -0.37878788 -0.36363637 -0.34848487 -0.33333334\n",
      " -0.3181818  -0.3030303  -0.2878788  -0.27272728 -0.25757575 -0.24242425\n",
      " -0.22727273 -0.21212122 -0.1969697  -0.18181819 -0.16666667 -0.15151516\n",
      " -0.13636364 -0.12121212 -0.10606061 -0.09090909 -0.07575758 -0.06060606\n",
      " -0.04545455 -0.03030303 -0.01515152  0.        ]\n",
      "(100, 12)\n"
     ]
    },
    {
     "data": {
      "text/plain": [
       "[<matplotlib.lines.Line2D at 0x7fdf99b7e880>]"
      ]
     },
     "execution_count": 13,
     "metadata": {},
     "output_type": "execute_result"
    },
    {
     "data": {
      "image/png": "[encoded data removed]",
      "text/plain": [
       "<Figure size 640x480 with 1 Axes>"
      ]
     },
     "metadata": {},
     "output_type": "display_data"
    }
   ],
   "source": [
    "import matplotlib.pyplot as plt\n",
    "\n",
    "# Get a batch of data\n",
    "batch = train_dataset[:]\n",
    "\n",
    "n_samples = 500\n",
    "\n",
    "# Query the model for normalized disturbances.\n",
    "d, cond = batch[\"d\"].to(config.device), batch[\"cond\"].to(config.device)\n",
    "d = model.output_normalizer.normalize(d)\n",
    "\n",
    "z = torch.linspace(-1.5,0.0,100)\n",
    "u = torch.linspace(0,1,100)\n",
    "mean = []\n",
    "for z_ in z:\n",
    "    cond = torch.zeros(1,12)\n",
    "    cond[0,0] = z_\n",
    "    pred_mean, pred_var = sample_outputs(model, cond, n_samples)\n",
    "    mean.append(pred_mean.cpu().numpy())\n",
    "mean = np.array(mean)\n",
    "print(z.cpu().numpy())\n",
    "print(mean.squeeze().shape)\n",
    "plt.plot(z.cpu().numpy(),mean.squeeze()[:,8])"
   ]
  },
  {
   "cell_type": "code",
   "execution_count": 61,
   "metadata": {},
   "outputs": [
    {
     "data": {
      "text/plain": [
       "12692"
      ]
     },
     "execution_count": 61,
     "metadata": {},
     "output_type": "execute_result"
    }
   ],
   "source": []
  },
  {
   "cell_type": "code",
   "execution_count": 40,
   "metadata": {},
   "outputs": [
    {
     "data": {
      "text/plain": [
       "<matplotlib.image.NonUniformImage at 0x7f46e8aed0a0>"
      ]
     },
     "execution_count": 40,
     "metadata": {},
     "output_type": "execute_result"
    }
   ],
   "source": [
    "im"
   ]
  }
 ],
 "metadata": {
  "kernelspec": {
   "display_name": "Python 3",
   "language": "python",
   "name": "python3"
  },
  "language_info": {
   "codemirror_mode": {
    "name": "ipython",
    "version": 3
   },
   "file_extension": ".py",
   "mimetype": "text/x-python",
   "name": "python",
   "nbconvert_exporter": "python",
   "pygments_lexer": "ipython3",
   "version": "3.8.10"
  }
 },
 "nbformat": 4,
 "nbformat_minor": 2
}
